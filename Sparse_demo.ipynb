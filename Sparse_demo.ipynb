{
 "cells": [
  {
   "cell_type": "markdown",
   "metadata": {},
   "source": [
    "## Sparse representation demo\n",
    "\n",
    "See introduction [here](Sparse_intro.ipynb)"
   ]
  },
  {
   "cell_type": "code",
   "execution_count": 2,
   "metadata": {
    "collapsed": true
   },
   "outputs": [],
   "source": [
    "## Usual imports\n",
    "%matplotlib inline\n",
    "import matplotlib.pyplot as plt\n",
    "from numpy import *\n",
    "import pdf_storage as ps\n",
    "import sys, os\n",
    "#note that mpi4py won't work on this notebook\n",
    "try:\n",
    "    from mpi4py import MPI\n",
    "    PLL = 'MPI'\n",
    "except ImportError:\n",
    "    PLL = 'SERIAL'\n",
    "import pyfits as pf"
   ]
  },
  {
   "cell_type": "code",
   "execution_count": 3,
   "metadata": {
    "collapsed": true
   },
   "outputs": [],
   "source": [
    "def get_limits(ntot, Nproc, rank):\n",
    "    \"\"\"\n",
    "    Get limits for farming an array to multiple processors\n",
    "    :param int ntot: Number of objects in array\n",
    "    :param int Nproc: number of processor\n",
    "    :param int rank: current processor id\n",
    "    :return: L1,L2 the limits of the array for given processor\n",
    "    :rtype: int, int\n",
    "    \"\"\"\n",
    "    jpproc = zeros(Nproc) + int(ntot / Nproc)\n",
    "    for i in xrange(Nproc):\n",
    "        if (i < ntot % Nproc): jpproc[i] += 1\n",
    "    jpproc = map(int, jpproc)\n",
    "    st = rank\n",
    "    st = sum(jpproc[:rank]) - 1\n",
    "    s0 = int(st + 1)\n",
    "    s1 = int(st + jpproc[rank]) + 1\n",
    "    return s0, s1\n",
    "\n",
    "\n",
    "if PLL == 'MPI':\n",
    "    comm = MPI.COMM_WORLD\n",
    "    size = comm.Get_size()\n",
    "    rank = comm.Get_rank()\n",
    "else:\n",
    "    size = 1\n",
    "    rank = 0"
   ]
  },
  {
   "cell_type": "markdown",
   "metadata": {},
   "source": [
    "## Note the format of the file (either a fits file or a numpy saved binary)"
   ]
  },
  {
   "cell_type": "code",
   "execution_count": 4,
   "metadata": {
    "collapsed": true
   },
   "outputs": [],
   "source": [
    "filein = 'CFHTLens_sample.P.npy'\n",
    "#FORMAT FILE, EACH ROW IS THE PDF FOR EACH GALAXY, LAST ROW IS THE REDSHIFT POSITION"
   ]
  },
  {
   "cell_type": "code",
   "execution_count": 5,
   "metadata": {
    "collapsed": false
   },
   "outputs": [
    {
     "name": "stdout",
     "output_type": "stream",
     "text": [
      "Total Galaxies =  100\n",
      "dz =  0.010995\n",
      "shape P  (101, 200)\n"
     ]
    }
   ],
   "source": [
    "P = load(filein)\n",
    "Ntot = len(P) - 1 #last row is redshift\n",
    "\n",
    "if rank == 0:\n",
    "    print \"Total Galaxies = \", Ntot\n",
    "z = P[-1]\n",
    "dz = z[1] - z[0]\n",
    "if rank == 0:\n",
    "    print 'dz = ', dz\n",
    "    print 'shape P ', shape(P)\n"
   ]
  },
  {
   "cell_type": "markdown",
   "metadata": {},
   "source": [
    "### Dictionary\n",
    "\n",
    "* mu = $\\mu$ range\n",
    "* Nmu = Number of $\\mu$ values in the range\n",
    "* max_sig = Maximumn $\\sigma$ for creating the basis\n",
    "* min_sig = Minimum $\\sigma$ for creating the basis\n",
    "* Nsig = Number of sigma values between the ranges min_sig and max_sig\n",
    "* sig = $\\sigma$ range\n",
    "* Nv = Number of voigt profiles per $\\sigma$\n",
    "* NA = Number of bases in total (Nmu x Nsig x Nv), ideally under 65,000"
   ]
  },
  {
   "cell_type": "code",
   "execution_count": 6,
   "metadata": {
    "collapsed": false
   },
   "outputs": [],
   "source": [
    "## preparing dictionary\n",
    "mu = [min(z), max(z)] \n",
    "Nmu = 250 #len(z)\n",
    "max_sig = (max(z) - min(z)) / 12.\n",
    "min_sig = dz / 6.\n",
    "sig = [min_sig, max_sig]\n",
    "Nv = 3\n",
    "Nsig = 80\n",
    "NA = Nmu * Nsig * Nv #final number of basis"
   ]
  },
  {
   "cell_type": "code",
   "execution_count": 7,
   "metadata": {
    "collapsed": false
   },
   "outputs": [
    {
     "name": "stdout",
     "output_type": "stream",
     "text": [
      "Nmu, Nsig, Nv =  [ 250 , 80 , 3 ]\n",
      "Total bases in dictionary 60000\n"
     ]
    }
   ],
   "source": [
    "if rank == 0:\n",
    "    print 'Nmu, Nsig, Nv = ', '[', Nmu, ',', Nsig, ',', Nv, ']'\n",
    "    print 'Total bases in dictionary', NA"
   ]
  },
  {
   "cell_type": "markdown",
   "metadata": {},
   "source": [
    "### Create dictionary"
   ]
  },
  {
   "cell_type": "code",
   "execution_count": 8,
   "metadata": {
    "collapsed": false
   },
   "outputs": [
    {
     "name": "stdout",
     "output_type": "stream",
     "text": [
      "Creating Dictionary...\n"
     ]
    }
   ],
   "source": [
    "if rank == 0:\n",
    "    print 'Creating Dictionary...'\n",
    "D = ps.create_voigt_dict(z, mu, Nmu, sig, Nsig, Nv) \n",
    "bigD = {}"
   ]
  },
  {
   "cell_type": "code",
   "execution_count": 9,
   "metadata": {
    "collapsed": false
   },
   "outputs": [
    {
     "name": "stdout",
     "output_type": "stream",
     "text": [
      "Nsparse (number of bases) =  20\n"
     ]
    }
   ],
   "source": [
    "#Define some tolerance and or Max number of Basis to be used, when tolerance is reached rest of basis is zero\n",
    "toler = 1.e-10\n",
    "Nsparse = 20\n",
    "Ncoef = 32001\n",
    "#These variables are to represent the \"amplitud of the base\"\n",
    "AA = linspace(0, 1, Ncoef)\n",
    "Da = AA[1] - AA[0]\n",
    "\n",
    "if rank == 0:\n",
    "    print 'Nsparse (number of bases) = ', Nsparse"
   ]
  },
  {
   "cell_type": "code",
   "execution_count": 10,
   "metadata": {
    "collapsed": true
   },
   "outputs": [],
   "source": [
    "#dictionary of info used to recreate dixtionary\n",
    "bigD['z'] = z\n",
    "bigD['mu'] = mu\n",
    "bigD['sig'] = sig\n",
    "bigD['dims'] = [Nmu, Nsig, Nv, Ncoef]\n",
    "bigD['N_SPARSE'] = Nsparse\n",
    "bigD['Ntot'] = Ntot"
   ]
  },
  {
   "cell_type": "markdown",
   "metadata": {},
   "source": [
    "### Creating the sparse representation of all pdf"
   ]
  },
  {
   "cell_type": "code",
   "execution_count": 11,
   "metadata": {
    "collapsed": false
   },
   "outputs": [
    {
     "name": "stdout",
     "output_type": "stream",
     "text": [
      "0   100  -------------> to core  0\n"
     ]
    }
   ],
   "source": [
    "#one core in this notebook\n",
    "if rank == 0:\n",
    "    for i in xrange(size):\n",
    "        Xs_0, Xs_1 = get_limits(Ntot, size, i)\n",
    "        print Xs_0, ' ', Xs_1, ' -------------> to core ', i\n",
    "\n",
    "s0, s1 = get_limits(Ntot, size, rank)\n",
    "P = P[s0:s1]"
   ]
  },
  {
   "cell_type": "code",
   "execution_count": null,
   "metadata": {
    "collapsed": true
   },
   "outputs": [],
   "source": []
  },
  {
   "cell_type": "code",
   "execution_count": 12,
   "metadata": {
    "collapsed": false
   },
   "outputs": [
    {
     "name": "stdout",
     "output_type": "stream",
     "text": [
      "Creating Sparse representation...\n",
      "Done with processor:  0\n"
     ]
    }
   ],
   "source": [
    "#Doing all the work (can be done in parallel)\n",
    "s0, s1 = get_limits(Ntot, size, rank)\n",
    "P = P[s0:s1]\n",
    "\n",
    "if rank == 0:\n",
    "    print 'Creating Sparse representation...'\n",
    "\n",
    "for ik in xrange(Ntot): #for each PDF\n",
    "    k = s0 + ik\n",
    "    bigD[k] = {}\n",
    "    try:\n",
    "        pdf0 = P[ik]\n",
    "    except:\n",
    "        continue\n",
    "    if sum(pdf0) > 0:\n",
    "        pdf0 /= sum(pdf0)\n",
    "    else:\n",
    "        continue\n",
    "    np = Nsparse\n",
    "    Dind, Dval = ps.sparse_basis(D, pdf0, np)\n",
    "    if len(Dind) <= 1: continue\n",
    "    bigD[k]['sparse'] = [Dind, Dval]\n",
    "    if max(Dval) > 0:\n",
    "        dval0=Dval[0]\n",
    "        Dvalm = Dval / max(Dval)\n",
    "        index = array(map(round, (Dvalm / Da)), dtype='int')\n",
    "        index0=int(round(dval0/Da))\n",
    "        index[0]=index0\n",
    "    else:\n",
    "        index = zeros(len(Dind), dtype='int')\n",
    "    bigD[k]['sparse_ind'] = array(map(ps.combine_int, index, Dind)) #lets put index and amplitude together\n",
    "\n",
    "    #swap back columns\n",
    "    D[:, [Dind]] = D[:, [arange(len(Dind))]]\n",
    "\n",
    "print 'Done with processor: ', rank\n",
    "if PLL == 'MPI': comm.Barrier()\n",
    "\n",
    "if PLL == 'MPI':\n",
    "    if rank == 0:\n",
    "        for srank in xrange(1, size):\n",
    "            temp = comm.recv(source=srank, tag=srank * 2)\n",
    "            bigD.update(temp)\n",
    "            del temp\n",
    "    else:\n",
    "        comm.send(bigD, dest=0, tag=rank * 2)\n",
    "    comm.Barrier()"
   ]
  },
  {
   "cell_type": "code",
   "execution_count": 13,
   "metadata": {
    "collapsed": false
   },
   "outputs": [
    {
     "name": "stdout",
     "output_type": "stream",
     "text": [
      "[495209531 -75540181 -76592369  56574863  53891484 -31834866  17122662\n",
      "  17125302   9979472   8475510  -9281854 -14854589 -14071517 -12038941\n",
      "   4735158  -6662112  -4301613  -3262385  -3454448  -3652976]\n"
     ]
    }
   ],
   "source": [
    "##See one example of a PDF converted, from 200 floats to 20 inte\n",
    "print bigD[1]['sparse_ind']"
   ]
  },
  {
   "cell_type": "markdown",
   "metadata": {},
   "source": [
    "### Saving results and cofiguration\n",
    "\n",
    "We save the 20-integers per PDF and the parameters to used to create the dictionary matrix, there are much better ways to save this info as well, i.e., hdf5 files or usinf fitsio instead of pyfits"
   ]
  },
  {
   "cell_type": "code",
   "execution_count": 14,
   "metadata": {
    "collapsed": false
   },
   "outputs": [
    {
     "name": "stdout",
     "output_type": "stream",
     "text": [
      "Writing fits file (example_out.fits)\n"
     ]
    },
    {
     "name": "stderr",
     "output_type": "stream",
     "text": [
      "/Users/Matias/Library/Enthought/Canopy_64bit/User/lib/python2.7/site-packages/pyfits/file.py:339: UserWarning: Overwriting existing file 'example_out.fits'.\n",
      "  warnings.warn(\"Overwriting existing file %r.\" % self.name)\n"
     ]
    }
   ],
   "source": [
    "if rank == 0:\n",
    "    print 'Writing fits file (example_out.fits)'\n",
    "    ALL = zeros((Ntot, Nsparse), dtype='int')\n",
    "    for i in xrange(Ntot):\n",
    "        if bigD.has_key(i):\n",
    "            idd = bigD[i]['sparse_ind']\n",
    "            ALL[i, 0:len(idd)] = idd\n",
    "    head = pf.Header()\n",
    "    head['N_TOT'] = Ntot\n",
    "    head['N_MU'] = bigD['dims'][0]\n",
    "    head['N_SIGMA'] = bigD['dims'][1]\n",
    "    head['N_VOIGT'] = bigD['dims'][2]\n",
    "    head['N_COEF'] = bigD['dims'][3]\n",
    "    head['N_SPARSE'] = bigD['N_SPARSE']\n",
    "    head['MU1'] = bigD['mu'][0]\n",
    "    head['MU2'] = bigD['mu'][1]\n",
    "    head['SIGMA1'] = bigD['sig'][0]\n",
    "    head['SIGMA2'] = bigD['sig'][1]\n",
    "    col1 = pf.Column(name='redshift', format='E', array=bigD['z'])\n",
    "    fmt = '%dJ' % bigD['N_SPARSE']\n",
    "    col2 = pf.Column(name='Sparse_indices', format=fmt, array=ALL)\n",
    "    table1 = pf.BinTableHDU.from_columns(pf.ColDefs([col1]))\n",
    "    table2 = pf.BinTableHDU.from_columns(pf.ColDefs([col2]))\n",
    "    prihdu = pf.PrimaryHDU(header=head)\n",
    "    hdulist = pf.HDUList([prihdu, table1, table2])\n",
    "    hdulist.writeto('example_out.fits', clobber=True)\n",
    "\n",
    "if PLL == 'MPI':\n",
    "    comm.Barrier()\n",
    "    MPI.Finalize()"
   ]
  },
  {
   "cell_type": "markdown",
   "metadata": {},
   "source": [
    "## Reconstructing and visualizing  demo\n",
    "\n",
    "Assuming we wrote the previous file, we can see the process of reconstructing and visualizaing the PDF"
   ]
  },
  {
   "cell_type": "code",
   "execution_count": 15,
   "metadata": {
    "collapsed": true
   },
   "outputs": [],
   "source": [
    "# just to pick a random example\n",
    "import random as rn\n",
    "\n",
    "#load the data again (not necessary really)\n",
    "PO = load('CFHTLens_sample.P.npy')\n"
   ]
  },
  {
   "cell_type": "markdown",
   "metadata": {},
   "source": [
    "### A random example\n",
    "\n",
    "Run the following several times to see different cases"
   ]
  },
  {
   "cell_type": "code",
   "execution_count": 16,
   "metadata": {
    "collapsed": false
   },
   "outputs": [
    {
     "data": {
      "text/plain": [
       "<matplotlib.text.Text at 0x10e28a490>"
      ]
     },
     "execution_count": 16,
     "metadata": {},
     "output_type": "execute_result"
    },
    {
     "data": {
      "image/png": "[encoded data removed]",
      "text/plain": [
       "<matplotlib.figure.Figure at 0x10d8f2910>"
      ]
     },
     "metadata": {},
     "output_type": "display_data"
    }
   ],
   "source": [
    "## Loading the files with the representation\n",
    "plt.figure(figsize=(8,6))\n",
    "F = pf.open('example_out.fits')\n",
    "P = F[2].data.field('Sparse_indices')\n",
    "F.close()\n",
    "\n",
    "k = rn.sample(xrange(len(PO) - 1), 1)[0]\n",
    "head = ps.read_header('example_out.fits') #To reconstrucy the dictionary\n",
    "z = head['z']\n",
    "\n",
    "rep_pdf = ps.reconstruct_pdf_int(P[k], head) #This function doesn't need to recreate the whole dictionary\n",
    "\n",
    "plt.plot(z, PO[k] / sum(PO[k]), label='original')\n",
    "plt.plot(z, rep_pdf/sum(rep_pdf), label='Sparse rep')\n",
    "plt.xlabel('redshift')\n",
    "plt.ylabel('P(z)')\n",
    "plt.legend(loc=0)\n",
    "title = 'Galaxy example No: %d' % k\n",
    "plt.title(title)\n",
    "\n",
    "\n",
    "#lets look at the basis"
   ]
  },
  {
   "cell_type": "markdown",
   "metadata": {},
   "source": [
    "### Lets rebuild the dictionary with the parameters saved"
   ]
  },
  {
   "cell_type": "code",
   "execution_count": 17,
   "metadata": {
    "collapsed": false
   },
   "outputs": [
    {
     "name": "stdout",
     "output_type": "stream",
     "text": [
      "(200, 60000)  <-- shape of dictionary\n"
     ]
    }
   ],
   "source": [
    "head = ps.read_header('example_out.fits') # As before\n",
    "D = ps.create_voigt_dict(head['z'], head['mu'], head['Nmu'], head['sig'], head['Nsig'], head['Nv']) \n",
    "print shape(D) ,' <-- shape of dictionary'\n",
    "AA = linspace(0, 1, head['Ncoef'])\n",
    "Da = AA[1] - AA[0]"
   ]
  },
  {
   "cell_type": "markdown",
   "metadata": {},
   "source": [
    "### Lets create another random example"
   ]
  },
  {
   "cell_type": "code",
   "execution_count": 18,
   "metadata": {
    "collapsed": false
   },
   "outputs": [
    {
     "name": "stdout",
     "output_type": "stream",
     "text": [
      "(60000,) shape of sparse vector\n"
     ]
    }
   ],
   "source": [
    "### Lets recreate delat (the sparse vector)\n",
    "delta = zeros(60000) ## All zeros but the 20 basis\n",
    "k = rn.sample(xrange(len(PO) - 1), 1)[0] #random galaxy\n",
    "\n",
    "print shape(delta), 'shape of sparse vector'\n",
    "## lets split the integer, shift bits operations \n",
    "amplitudes, indices=ps.get_N(P[k])\n",
    "#given the way we stored the data we need the following the get the sparse vector back\n",
    "delta[indices] = Da*amplitudes\n",
    "delta[indices[1:]] *= Da*amplitudes[0]"
   ]
  },
  {
   "cell_type": "markdown",
   "metadata": {},
   "source": [
    "### Now we have $\\mathbf{D}$ and $\\mathbf{\\delta}$\n",
    "\n",
    "Then from the paper (see [intro](Sparse_intro.ipynb)), \n",
    "\n",
    "$$ \\mathbf{pz}_k \\approx \\mathbf{D} \\cdot \\mathbf{\\delta}_k $$"
   ]
  },
  {
   "cell_type": "code",
   "execution_count": 19,
   "metadata": {
    "collapsed": false
   },
   "outputs": [],
   "source": [
    "## lets take the dot product\n",
    "r_pdf = dot(D, delta)"
   ]
  },
  {
   "cell_type": "code",
   "execution_count": 20,
   "metadata": {
    "collapsed": false
   },
   "outputs": [
    {
     "data": {
      "text/plain": [
       "<matplotlib.text.Text at 0x10d8cc110>"
      ]
     },
     "execution_count": 20,
     "metadata": {},
     "output_type": "execute_result"
    },
    {
     "data": {
      "image/png": "[encoded data removed]",
      "text/plain": [
       "<matplotlib.figure.Figure at 0x1079a3910>"
      ]
     },
     "metadata": {},
     "output_type": "display_data"
    }
   ],
   "source": [
    "plt.figure(figsize=(8,6))\n",
    "plt.plot(z, PO[k], label='original')\n",
    "plt.plot(z, r_pdf, label='Sparse rep')\n",
    "plt.xlabel('redshift')\n",
    "plt.ylabel('P(z)')\n",
    "plt.legend(loc=0)\n",
    "title = 'Galaxy example No: %d' % k\n",
    "plt.title(title)"
   ]
  },
  {
   "cell_type": "markdown",
   "metadata": {},
   "source": [
    "### Same as before...\n",
    "\n",
    "If you want to see the basis, then:"
   ]
  },
  {
   "cell_type": "code",
   "execution_count": 21,
   "metadata": {
    "collapsed": false
   },
   "outputs": [
    {
     "data": {
      "text/plain": [
       "<matplotlib.text.Text at 0x10d942d10>"
      ]
     },
     "execution_count": 21,
     "metadata": {},
     "output_type": "execute_result"
    },
    {
     "data": {
      "image/png": "[encoded data removed]",
      "text/plain": [
       "<matplotlib.figure.Figure at 0x10e2a7090>"
      ]
     },
     "metadata": {},
     "output_type": "display_data"
    }
   ],
   "source": [
    "plt.figure(figsize=(8,6))\n",
    "plt.plot(z, r_pdf, lw=2, color='red', label='Sparse PDF')\n",
    "plt.plot(z, D[:,indices[0]]*delta[indices[0]],'k-', label='basis')\n",
    "for i in indices:\n",
    "    plt.plot(z, D[:,i]*delta[i],'k-') #plotting rach basis from D (non zero basis)\n",
    "plt.xlabel('redshift')\n",
    "plt.ylabel('P(z)')\n",
    "plt.legend(loc=0)\n",
    "title = 'Galaxy example No: %d' % k\n",
    "plt.title(title)"
   ]
  },
  {
   "cell_type": "markdown",
   "metadata": {},
   "source": [
    "The basis are shown in black lines, the reconstructed in red"
   ]
  },
  {
   "cell_type": "code",
   "execution_count": null,
   "metadata": {
    "collapsed": true
   },
   "outputs": [],
   "source": []
  }
 ],
 "metadata": {
  "kernelspec": {
   "display_name": "Python 2",
   "language": "python",
   "name": "python2"
  }
 },
 "nbformat": 4,
 "nbformat_minor": 0
}
